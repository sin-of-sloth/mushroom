{
  "nbformat": 4,
  "nbformat_minor": 0,
  "metadata": {
    "colab": {
      "provenance": [],
      "toc_visible": true,
      "authorship_tag": "ABX9TyMTGJ/3aa5tHmk/r/JrsWg8",
      "include_colab_link": true
    },
    "kernelspec": {
      "name": "python3",
      "display_name": "Python 3"
    },
    "language_info": {
      "name": "python"
    }
  },
  "cells": [
    {
      "cell_type": "markdown",
      "metadata": {
        "id": "view-in-github",
        "colab_type": "text"
      },
      "source": [
        "<a href=\"https://colab.research.google.com/github/sin-of-sloth/mushroom/blob/master/Mushroom.ipynb\" target=\"_parent\"><img src=\"https://colab.research.google.com/assets/colab-badge.svg\" alt=\"Open In Colab\"/></a>"
      ]
    },
    {
      "cell_type": "markdown",
      "source": [
        "# Mushroom classification using their physical features"
      ],
      "metadata": {
        "id": "lIScFkHJLRhb"
      }
    },
    {
      "cell_type": "markdown",
      "source": [
        "## Setting things up\n",
        "\n"
      ],
      "metadata": {
        "id": "KeySIzouP0lS"
      }
    },
    {
      "cell_type": "code",
      "source": [
        "!pip install scikit-learn\n",
        "!pip install pandas\n",
        "!pip install scipy"
      ],
      "metadata": {
        "colab": {
          "base_uri": "https://localhost:8080/"
        },
        "id": "VUCrU9iUQAVU",
        "outputId": "94474fe4-8e9d-486b-a4b3-d7d22fa365d7"
      },
      "execution_count": 109,
      "outputs": [
        {
          "output_type": "stream",
          "name": "stdout",
          "text": [
            "Looking in indexes: https://pypi.org/simple, https://us-python.pkg.dev/colab-wheels/public/simple/\n",
            "Requirement already satisfied: scikit-learn in /usr/local/lib/python3.9/dist-packages (1.2.2)\n",
            "Requirement already satisfied: scipy>=1.3.2 in /usr/local/lib/python3.9/dist-packages (from scikit-learn) (1.10.1)\n",
            "Requirement already satisfied: numpy>=1.17.3 in /usr/local/lib/python3.9/dist-packages (from scikit-learn) (1.22.4)\n",
            "Requirement already satisfied: joblib>=1.1.1 in /usr/local/lib/python3.9/dist-packages (from scikit-learn) (1.2.0)\n",
            "Requirement already satisfied: threadpoolctl>=2.0.0 in /usr/local/lib/python3.9/dist-packages (from scikit-learn) (3.1.0)\n",
            "Looking in indexes: https://pypi.org/simple, https://us-python.pkg.dev/colab-wheels/public/simple/\n",
            "Requirement already satisfied: pandas in /usr/local/lib/python3.9/dist-packages (1.5.3)\n",
            "Requirement already satisfied: python-dateutil>=2.8.1 in /usr/local/lib/python3.9/dist-packages (from pandas) (2.8.2)\n",
            "Requirement already satisfied: numpy>=1.20.3 in /usr/local/lib/python3.9/dist-packages (from pandas) (1.22.4)\n",
            "Requirement already satisfied: pytz>=2020.1 in /usr/local/lib/python3.9/dist-packages (from pandas) (2022.7.1)\n",
            "Requirement already satisfied: six>=1.5 in /usr/local/lib/python3.9/dist-packages (from python-dateutil>=2.8.1->pandas) (1.16.0)\n",
            "Looking in indexes: https://pypi.org/simple, https://us-python.pkg.dev/colab-wheels/public/simple/\n",
            "Requirement already satisfied: scipy in /usr/local/lib/python3.9/dist-packages (1.10.1)\n",
            "Requirement already satisfied: numpy<1.27.0,>=1.19.5 in /usr/local/lib/python3.9/dist-packages (from scipy) (1.22.4)\n"
          ]
        }
      ]
    },
    {
      "cell_type": "markdown",
      "source": [
        "## The Dataset\n",
        "\n",
        "Dataset used is from the UCI Machine Learning Repository, called the [Secondary Mushroom Dataset](https://archive.ics.uci.edu/ml/datasets/Secondary+Mushroom+Dataset). It has 61,069 instances, each having 21 features, like "
      ],
      "metadata": {
        "id": "e3TO0402LWPV"
      }
    },
    {
      "cell_type": "markdown",
      "source": [
        "### Fetching the data"
      ],
      "metadata": {
        "id": "dyIgbUAcPaVx"
      }
    },
    {
      "cell_type": "code",
      "execution_count": 2,
      "metadata": {
        "id": "TYSSs7Xg12xD",
        "colab": {
          "base_uri": "https://localhost:8080/"
        },
        "outputId": "3e631956-4bb6-4083-9a6e-ee519394cade"
      },
      "outputs": [
        {
          "output_type": "stream",
          "name": "stdout",
          "text": [
            "--2023-04-22 22:14:28--  https://archive.ics.uci.edu/ml/machine-learning-databases/00615/MushroomDataset.zip\n",
            "Resolving archive.ics.uci.edu (archive.ics.uci.edu)... 128.195.10.252\n",
            "Connecting to archive.ics.uci.edu (archive.ics.uci.edu)|128.195.10.252|:443... connected.\n",
            "HTTP request sent, awaiting response... 200 OK\n",
            "Length: 473175 (462K) [application/x-httpd-php]\n",
            "Saving to: ‘MushroomDataset.zip’\n",
            "\n",
            "\rMushroomDataset.zip   0%[                    ]       0  --.-KB/s               \rMushroomDataset.zip 100%[===================>] 462.08K  --.-KB/s    in 0.04s   \n",
            "\n",
            "2023-04-22 22:14:28 (10.3 MB/s) - ‘MushroomDataset.zip’ saved [473175/473175]\n",
            "\n",
            "Archive:  MushroomDataset.zip\n",
            "   creating: MushroomDataset/\n",
            "  inflating: MushroomDataset/primary_data.csv  \n",
            "  inflating: MushroomDataset/primary_data_meta.txt  \n",
            "  inflating: MushroomDataset/secondary_data.csv  \n",
            "  inflating: MushroomDataset/secondary_data_meta.txt  \n"
          ]
        }
      ],
      "source": [
        "!wget https://archive.ics.uci.edu/ml/machine-learning-databases/00615/MushroomDataset.zip\n",
        "!unzip MushroomDataset.zip"
      ]
    },
    {
      "cell_type": "markdown",
      "source": [
        "### Dataset description"
      ],
      "metadata": {
        "id": "cD-kk6AHPcAh"
      }
    },
    {
      "cell_type": "code",
      "source": [
        "!cat MushroomDataset/secondary_data_meta.txt"
      ],
      "metadata": {
        "colab": {
          "base_uri": "https://localhost:8080/"
        },
        "id": "v9Gcv_xJOq9o",
        "outputId": "b267da32-08ba-47fe-ef91-a8d579995519"
      },
      "execution_count": 3,
      "outputs": [
        {
          "output_type": "stream",
          "name": "stdout",
          "text": [
            "1. Title: Secondary mushroom data\r\n",
            "\r\n",
            "2. Sources:\r\n",
            "\t(a) Mushroom species drawn from source book:\r\n",
            "\t\tPatrick Hardin.Mushrooms & Toadstools.\r\n",
            "\t    Zondervan, 1999\r\n",
            "\t(b) Inspired by this mushroom data:\r\n",
            "\t\tJeff Schlimmer.Mushroom Data Set. Apr. 1987.\r\n",
            "\t\turl:https://archive.ics.uci.edu/ml/datasets/Mushroom.\r\n",
            "\t(c) Repository containing the related Python scripts and all the data sets: https://mushroom.mathematik.uni-marburg.de/files/ \r\n",
            "\t(d) Author: Dennis Wagner\r\n",
            "\t(e) Date: 05 September 2020\r\n",
            "\r\n",
            "3. Relevant information:\r\n",
            "\tThis dataset includes 61069 hypothetical mushrooms with caps based on 173 species (353 mushrooms\r\n",
            "\tper species). Each mushroom is identified as definitely edible, definitely poisonous, or of \r\n",
            "\tunknown edibility and not recommended (the latter class was combined with the poisonous class).\r\n",
            "\tOf the 20 variables, 17 are nominal and 3 are metrical.\r\n",
            "\r\n",
            "4. Data simulation:\r\n",
            "\tThe related Python project (Sources (c)) contains a Python module secondary_data_generation.py\r\n",
            "\tused to generate this data based on primary_data_edited.csv also found in the repository.\r\n",
            "\tBoth nominal and metrical variables are a result of randomization.\r\n",
            "\tThe simulated and ordered by species version is found in secondary_data_generated.csv.\r\n",
            "\tThe randomly shuffled version is found in secondary_data_shuffled.csv.\r\n",
            "\r\n",
            "5. Class information:\r\n",
            "\t1. class\t\tpoisonous=p, edibile=e (binary)\r\n",
            "\r\n",
            "6. Variable Information:\r\n",
            "   (n: nominal, m: metrical; nominal values as sets of values)\r\n",
            "   1. cap-diameter (m):\t\t\tfloat number in cm\r\n",
            "   2. cap-shape (n):            bell=b, conical=c, convex=x, flat=f,\r\n",
            "                                sunken=s, spherical=p, others=o\r\n",
            "   3. cap-surface (n):          fibrous=i, grooves=g, scaly=y, smooth=s,\r\n",
            "\t\t\t\t\t\t\t\tshiny=h, leathery=l, silky=k, sticky=t,\r\n",
            "\t\t\t\t\t\t\t\twrinkled=w, fleshy=e\r\n",
            "   4. cap-color (n):            brown=n, buff=b, gray=g, green=r, pink=p,\r\n",
            "\t\t\t\t\t\t\t\tpurple=u, red=e, white=w, yellow=y, blue=l, \r\n",
            "\t\t\t\t\t\t\t\torange=o,  black=k\r\n",
            "   5. does-bruise-bleed (n):\tbruises-or-bleeding=t,no=f\r\n",
            "   6. gill-attachment (n):      adnate=a, adnexed=x, decurrent=d, free=e, \r\n",
            "\t\t\t\t\t\t\t\tsinuate=s, pores=p, none=f, unknown=?\r\n",
            "   7. gill-spacing (n):         close=c, distant=d, none=f\r\n",
            "   8. gill-color (n):           see cap-color + none=f\r\n",
            "   9. stem-height (m):\t\t\tfloat number in cm\r\n",
            "   10. stem-width (m):\t\t\tfloat number in mm   \r\n",
            "   11. stem-root (n):           bulbous=b, swollen=s, club=c, cup=u, equal=e,\r\n",
            "                                rhizomorphs=z, rooted=r\r\n",
            "   12. stem-surface (n): \t\tsee cap-surface + none=f\r\n",
            "   13. stem-color (n):\t\t\tsee cap-color + none=f\r\n",
            "   14. veil-type (n):           partial=p, universal=u\r\n",
            "   15. veil-color (n):          see cap-color + none=f\r\n",
            "   16. has-ring (n):            ring=t, none=f\r\n",
            "   17. ring-type (n):           cobwebby=c, evanescent=e, flaring=r, grooved=g, \r\n",
            "\t\t\t\t\t\t\t    large=l, pendant=p, sheathing=s, zone=z, scaly=y, movable=m, none=f, unknown=?\r\n",
            "   18. spore-print-color (n):   see cap color\r\n",
            "   19. habitat (n):             grasses=g, leaves=l, meadows=m, paths=p, heaths=h,\r\n",
            "                                urban=u, waste=w, woods=d\r\n",
            "   20. season (n):\t\t\t\tspring=s, summer=u, autumn=a, winter=w\r\n"
          ]
        }
      ]
    },
    {
      "cell_type": "markdown",
      "source": [
        "## Importing required libraries"
      ],
      "metadata": {
        "id": "DCvdi9OSUMtb"
      }
    },
    {
      "cell_type": "code",
      "source": [
        "import pandas as pd\n",
        "from sklearn.model_selection import train_test_split\n",
        "from sklearn.preprocessing import LabelEncoder\n",
        "from sklearn.metrics import classification_report, accuracy_score\n",
        "from sklearn.tree import DecisionTreeClassifier\n",
        "from sklearn.model_selection import RandomizedSearchCV\n",
        "from sklearn.neighbors import KNeighborsClassifier\n",
        "from sklearn.ensemble import AdaBoostClassifier, HistGradientBoostingClassifier, VotingClassifier\n",
        "from scipy.stats import randint\n",
        "from numpy import array, argmax\n",
        "from numpy.core.numeric import tensordot\n",
        "from matplotlib import colors"
      ],
      "metadata": {
        "id": "oY4AiiBIUP1W"
      },
      "execution_count": 238,
      "outputs": []
    },
    {
      "cell_type": "code",
      "source": [
        "data = pd.read_csv('./MushroomDataset/secondary_data.csv', sep=';')\n",
        "data.head()"
      ],
      "metadata": {
        "colab": {
          "base_uri": "https://localhost:8080/",
          "height": 352
        },
        "id": "nQrAbtDUUXn4",
        "outputId": "4af42c3c-85e7-43c4-d64d-b033de2ac4e0"
      },
      "execution_count": 285,
      "outputs": [
        {
          "output_type": "execute_result",
          "data": {
            "text/plain": [
              "  class  cap-diameter cap-shape cap-surface cap-color does-bruise-or-bleed  \\\n",
              "0     p         15.26         x           g         o                    f   \n",
              "1     p         16.60         x           g         o                    f   \n",
              "2     p         14.07         x           g         o                    f   \n",
              "3     p         14.17         f           h         e                    f   \n",
              "4     p         14.64         x           h         o                    f   \n",
              "\n",
              "  gill-attachment gill-spacing gill-color  stem-height  ...  stem-root  \\\n",
              "0               e          NaN          w        16.95  ...          s   \n",
              "1               e          NaN          w        17.99  ...          s   \n",
              "2               e          NaN          w        17.80  ...          s   \n",
              "3               e          NaN          w        15.77  ...          s   \n",
              "4               e          NaN          w        16.53  ...          s   \n",
              "\n",
              "  stem-surface stem-color veil-type veil-color has-ring ring-type  \\\n",
              "0            y          w         u          w        t         g   \n",
              "1            y          w         u          w        t         g   \n",
              "2            y          w         u          w        t         g   \n",
              "3            y          w         u          w        t         p   \n",
              "4            y          w         u          w        t         p   \n",
              "\n",
              "  spore-print-color habitat season  \n",
              "0               NaN       d      w  \n",
              "1               NaN       d      u  \n",
              "2               NaN       d      w  \n",
              "3               NaN       d      w  \n",
              "4               NaN       d      w  \n",
              "\n",
              "[5 rows x 21 columns]"
            ],
            "text/html": [
              "\n",
              "  <div id=\"df-e9fa18ec-f25f-448a-a33e-4fdb8fd84e46\">\n",
              "    <div class=\"colab-df-container\">\n",
              "      <div>\n",
              "<style scoped>\n",
              "    .dataframe tbody tr th:only-of-type {\n",
              "        vertical-align: middle;\n",
              "    }\n",
              "\n",
              "    .dataframe tbody tr th {\n",
              "        vertical-align: top;\n",
              "    }\n",
              "\n",
              "    .dataframe thead th {\n",
              "        text-align: right;\n",
              "    }\n",
              "</style>\n",
              "<table border=\"1\" class=\"dataframe\">\n",
              "  <thead>\n",
              "    <tr style=\"text-align: right;\">\n",
              "      <th></th>\n",
              "      <th>class</th>\n",
              "      <th>cap-diameter</th>\n",
              "      <th>cap-shape</th>\n",
              "      <th>cap-surface</th>\n",
              "      <th>cap-color</th>\n",
              "      <th>does-bruise-or-bleed</th>\n",
              "      <th>gill-attachment</th>\n",
              "      <th>gill-spacing</th>\n",
              "      <th>gill-color</th>\n",
              "      <th>stem-height</th>\n",
              "      <th>...</th>\n",
              "      <th>stem-root</th>\n",
              "      <th>stem-surface</th>\n",
              "      <th>stem-color</th>\n",
              "      <th>veil-type</th>\n",
              "      <th>veil-color</th>\n",
              "      <th>has-ring</th>\n",
              "      <th>ring-type</th>\n",
              "      <th>spore-print-color</th>\n",
              "      <th>habitat</th>\n",
              "      <th>season</th>\n",
              "    </tr>\n",
              "  </thead>\n",
              "  <tbody>\n",
              "    <tr>\n",
              "      <th>0</th>\n",
              "      <td>p</td>\n",
              "      <td>15.26</td>\n",
              "      <td>x</td>\n",
              "      <td>g</td>\n",
              "      <td>o</td>\n",
              "      <td>f</td>\n",
              "      <td>e</td>\n",
              "      <td>NaN</td>\n",
              "      <td>w</td>\n",
              "      <td>16.95</td>\n",
              "      <td>...</td>\n",
              "      <td>s</td>\n",
              "      <td>y</td>\n",
              "      <td>w</td>\n",
              "      <td>u</td>\n",
              "      <td>w</td>\n",
              "      <td>t</td>\n",
              "      <td>g</td>\n",
              "      <td>NaN</td>\n",
              "      <td>d</td>\n",
              "      <td>w</td>\n",
              "    </tr>\n",
              "    <tr>\n",
              "      <th>1</th>\n",
              "      <td>p</td>\n",
              "      <td>16.60</td>\n",
              "      <td>x</td>\n",
              "      <td>g</td>\n",
              "      <td>o</td>\n",
              "      <td>f</td>\n",
              "      <td>e</td>\n",
              "      <td>NaN</td>\n",
              "      <td>w</td>\n",
              "      <td>17.99</td>\n",
              "      <td>...</td>\n",
              "      <td>s</td>\n",
              "      <td>y</td>\n",
              "      <td>w</td>\n",
              "      <td>u</td>\n",
              "      <td>w</td>\n",
              "      <td>t</td>\n",
              "      <td>g</td>\n",
              "      <td>NaN</td>\n",
              "      <td>d</td>\n",
              "      <td>u</td>\n",
              "    </tr>\n",
              "    <tr>\n",
              "      <th>2</th>\n",
              "      <td>p</td>\n",
              "      <td>14.07</td>\n",
              "      <td>x</td>\n",
              "      <td>g</td>\n",
              "      <td>o</td>\n",
              "      <td>f</td>\n",
              "      <td>e</td>\n",
              "      <td>NaN</td>\n",
              "      <td>w</td>\n",
              "      <td>17.80</td>\n",
              "      <td>...</td>\n",
              "      <td>s</td>\n",
              "      <td>y</td>\n",
              "      <td>w</td>\n",
              "      <td>u</td>\n",
              "      <td>w</td>\n",
              "      <td>t</td>\n",
              "      <td>g</td>\n",
              "      <td>NaN</td>\n",
              "      <td>d</td>\n",
              "      <td>w</td>\n",
              "    </tr>\n",
              "    <tr>\n",
              "      <th>3</th>\n",
              "      <td>p</td>\n",
              "      <td>14.17</td>\n",
              "      <td>f</td>\n",
              "      <td>h</td>\n",
              "      <td>e</td>\n",
              "      <td>f</td>\n",
              "      <td>e</td>\n",
              "      <td>NaN</td>\n",
              "      <td>w</td>\n",
              "      <td>15.77</td>\n",
              "      <td>...</td>\n",
              "      <td>s</td>\n",
              "      <td>y</td>\n",
              "      <td>w</td>\n",
              "      <td>u</td>\n",
              "      <td>w</td>\n",
              "      <td>t</td>\n",
              "      <td>p</td>\n",
              "      <td>NaN</td>\n",
              "      <td>d</td>\n",
              "      <td>w</td>\n",
              "    </tr>\n",
              "    <tr>\n",
              "      <th>4</th>\n",
              "      <td>p</td>\n",
              "      <td>14.64</td>\n",
              "      <td>x</td>\n",
              "      <td>h</td>\n",
              "      <td>o</td>\n",
              "      <td>f</td>\n",
              "      <td>e</td>\n",
              "      <td>NaN</td>\n",
              "      <td>w</td>\n",
              "      <td>16.53</td>\n",
              "      <td>...</td>\n",
              "      <td>s</td>\n",
              "      <td>y</td>\n",
              "      <td>w</td>\n",
              "      <td>u</td>\n",
              "      <td>w</td>\n",
              "      <td>t</td>\n",
              "      <td>p</td>\n",
              "      <td>NaN</td>\n",
              "      <td>d</td>\n",
              "      <td>w</td>\n",
              "    </tr>\n",
              "  </tbody>\n",
              "</table>\n",
              "<p>5 rows × 21 columns</p>\n",
              "</div>\n",
              "      <button class=\"colab-df-convert\" onclick=\"convertToInteractive('df-e9fa18ec-f25f-448a-a33e-4fdb8fd84e46')\"\n",
              "              title=\"Convert this dataframe to an interactive table.\"\n",
              "              style=\"display:none;\">\n",
              "        \n",
              "  <svg xmlns=\"http://www.w3.org/2000/svg\" height=\"24px\"viewBox=\"0 0 24 24\"\n",
              "       width=\"24px\">\n",
              "    <path d=\"M0 0h24v24H0V0z\" fill=\"none\"/>\n",
              "    <path d=\"M18.56 5.44l.94 2.06.94-2.06 2.06-.94-2.06-.94-.94-2.06-.94 2.06-2.06.94zm-11 1L8.5 8.5l.94-2.06 2.06-.94-2.06-.94L8.5 2.5l-.94 2.06-2.06.94zm10 10l.94 2.06.94-2.06 2.06-.94-2.06-.94-.94-2.06-.94 2.06-2.06.94z\"/><path d=\"M17.41 7.96l-1.37-1.37c-.4-.4-.92-.59-1.43-.59-.52 0-1.04.2-1.43.59L10.3 9.45l-7.72 7.72c-.78.78-.78 2.05 0 2.83L4 21.41c.39.39.9.59 1.41.59.51 0 1.02-.2 1.41-.59l7.78-7.78 2.81-2.81c.8-.78.8-2.07 0-2.86zM5.41 20L4 18.59l7.72-7.72 1.47 1.35L5.41 20z\"/>\n",
              "  </svg>\n",
              "      </button>\n",
              "      \n",
              "  <style>\n",
              "    .colab-df-container {\n",
              "      display:flex;\n",
              "      flex-wrap:wrap;\n",
              "      gap: 12px;\n",
              "    }\n",
              "\n",
              "    .colab-df-convert {\n",
              "      background-color: #E8F0FE;\n",
              "      border: none;\n",
              "      border-radius: 50%;\n",
              "      cursor: pointer;\n",
              "      display: none;\n",
              "      fill: #1967D2;\n",
              "      height: 32px;\n",
              "      padding: 0 0 0 0;\n",
              "      width: 32px;\n",
              "    }\n",
              "\n",
              "    .colab-df-convert:hover {\n",
              "      background-color: #E2EBFA;\n",
              "      box-shadow: 0px 1px 2px rgba(60, 64, 67, 0.3), 0px 1px 3px 1px rgba(60, 64, 67, 0.15);\n",
              "      fill: #174EA6;\n",
              "    }\n",
              "\n",
              "    [theme=dark] .colab-df-convert {\n",
              "      background-color: #3B4455;\n",
              "      fill: #D2E3FC;\n",
              "    }\n",
              "\n",
              "    [theme=dark] .colab-df-convert:hover {\n",
              "      background-color: #434B5C;\n",
              "      box-shadow: 0px 1px 3px 1px rgba(0, 0, 0, 0.15);\n",
              "      filter: drop-shadow(0px 1px 2px rgba(0, 0, 0, 0.3));\n",
              "      fill: #FFFFFF;\n",
              "    }\n",
              "  </style>\n",
              "\n",
              "      <script>\n",
              "        const buttonEl =\n",
              "          document.querySelector('#df-e9fa18ec-f25f-448a-a33e-4fdb8fd84e46 button.colab-df-convert');\n",
              "        buttonEl.style.display =\n",
              "          google.colab.kernel.accessAllowed ? 'block' : 'none';\n",
              "\n",
              "        async function convertToInteractive(key) {\n",
              "          const element = document.querySelector('#df-e9fa18ec-f25f-448a-a33e-4fdb8fd84e46');\n",
              "          const dataTable =\n",
              "            await google.colab.kernel.invokeFunction('convertToInteractive',\n",
              "                                                     [key], {});\n",
              "          if (!dataTable) return;\n",
              "\n",
              "          const docLinkHtml = 'Like what you see? Visit the ' +\n",
              "            '<a target=\"_blank\" href=https://colab.research.google.com/notebooks/data_table.ipynb>data table notebook</a>'\n",
              "            + ' to learn more about interactive tables.';\n",
              "          element.innerHTML = '';\n",
              "          dataTable['output_type'] = 'display_data';\n",
              "          await google.colab.output.renderOutput(dataTable, element);\n",
              "          const docLink = document.createElement('div');\n",
              "          docLink.innerHTML = docLinkHtml;\n",
              "          element.appendChild(docLink);\n",
              "        }\n",
              "      </script>\n",
              "    </div>\n",
              "  </div>\n",
              "  "
            ]
          },
          "metadata": {},
          "execution_count": 285
        }
      ]
    },
    {
      "cell_type": "code",
      "source": [
        "data.shape"
      ],
      "metadata": {
        "colab": {
          "base_uri": "https://localhost:8080/"
        },
        "id": "LUP86nP5unaw",
        "outputId": "46660e7e-f493-4fe8-afef-bd001b97f064"
      },
      "execution_count": 286,
      "outputs": [
        {
          "output_type": "execute_result",
          "data": {
            "text/plain": [
              "(61069, 21)"
            ]
          },
          "metadata": {},
          "execution_count": 286
        }
      ]
    },
    {
      "cell_type": "code",
      "source": [
        "data.dropna(axis=1, thresh=data.shape[0]/2, inplace=True)\n",
        "data.shape"
      ],
      "metadata": {
        "colab": {
          "base_uri": "https://localhost:8080/"
        },
        "id": "F0h8h2AMIJZ1",
        "outputId": "819d2de6-f99a-4c2e-a077-2e814079a2e5"
      },
      "execution_count": 287,
      "outputs": [
        {
          "output_type": "execute_result",
          "data": {
            "text/plain": [
              "(61069, 16)"
            ]
          },
          "metadata": {},
          "execution_count": 287
        }
      ]
    },
    {
      "cell_type": "markdown",
      "source": [
        "## Data Preprocessing"
      ],
      "metadata": {
        "id": "zYzlLDI1F0gc"
      }
    },
    {
      "cell_type": "markdown",
      "source": [
        "### Convert character/text labels to integers"
      ],
      "metadata": {
        "id": "fHryV8NuF5XL"
      }
    },
    {
      "cell_type": "code",
      "source": [
        "def encode_labels(dataset):\n",
        "    le = LabelEncoder()\n",
        "    for feature, datatype in dataset.dtypes.items():\n",
        "        if datatype == 'object':\n",
        "            labels = le.fit_transform(dataset[feature])\n",
        "            dataset.drop(feature, axis=1, inplace=True)\n",
        "            dataset[feature] = labels\n",
        "    return dataset"
      ],
      "metadata": {
        "id": "dZPiYitrF3Jg"
      },
      "execution_count": 314,
      "outputs": []
    },
    {
      "cell_type": "code",
      "source": [
        "# encode labels and move `class` to front of the dataframe\n",
        "data = encode_labels(data)\n",
        "data.insert(0, 'class', data.pop('class'))"
      ],
      "metadata": {
        "id": "yoZMpIrRGNoc"
      },
      "execution_count": 288,
      "outputs": []
    },
    {
      "cell_type": "markdown",
      "source": [
        "## Creating train-test-validation splits"
      ],
      "metadata": {
        "id": "yM8uAwZ6EkZy"
      }
    },
    {
      "cell_type": "code",
      "source": [
        "def train_test_validation_split(x_data, y_data):\n",
        "    # training split is 70% of total data\n",
        "    X_train, X_test, y_train, y_test = train_test_split(x_data, y_data, test_size=0.30, random_state=1)\n",
        "    # divide remaining 30% in half for test and validation splits\n",
        "    X_test, X_val, y_test, y_val = train_test_split(X_test, y_test, test_size=0.5, random_state=1)\n",
        "\n",
        "    return X_train, y_train, X_test, y_test, X_val, y_val"
      ],
      "metadata": {
        "id": "gEDXUczUCiJO"
      },
      "execution_count": 332,
      "outputs": []
    },
    {
      "cell_type": "code",
      "source": [
        "X = data.iloc[:, 1:]\n",
        "y = data.iloc[:, 0]\n",
        "\n",
        "X_train, y_train, X_test, y_test, X_val, y_val = train_test_validation_split(X, y)"
      ],
      "metadata": {
        "id": "ncieLR_QEs-E"
      },
      "execution_count": 290,
      "outputs": []
    },
    {
      "cell_type": "code",
      "source": [
        "def get_cross_validated_results(\n",
        "    model_name, model, param_distributions, cv_gen, X_train, y_train, X_test, y_test\n",
        "):\n",
        "    clf = RandomizedSearchCV(model, param_distributions, cv=cv_gen)\n",
        "    clf.fit(X_train, y_train)\n",
        "    \n",
        "    print(model_name)\n",
        "    print(clf.best_params_)\n",
        "    y_pred = clf.best_estimator_.predict(X_test)\n",
        "    accuracy = accuracy_score(y_test, y_pred)\n",
        "    print(f'Accuracy: {accuracy}')\n",
        "\n",
        "    return clf.best_estimator_, accuracy"
      ],
      "metadata": {
        "id": "efVOONNcKHSu"
      },
      "execution_count": 291,
      "outputs": []
    },
    {
      "cell_type": "markdown",
      "source": [
        "## Experiment 1\n",
        "\n",
        "- train models on train split\n",
        "- evaluate on validation split and note their accuracies\n",
        "- finally, test on test split by taking a weighted average as the final prediction, where each model prediction is weighted by their validation accuracy"
      ],
      "metadata": {
        "id": "ZqqlHD1yel-n"
      }
    },
    {
      "cell_type": "markdown",
      "source": [
        "Initializing models' array and their weights"
      ],
      "metadata": {
        "id": "_NJM633in3V0"
      }
    },
    {
      "cell_type": "code",
      "source": [
        "models = []\n",
        "model_weights = []"
      ],
      "metadata": {
        "id": "lbd0whYzebjB"
      },
      "execution_count": 292,
      "outputs": []
    },
    {
      "cell_type": "markdown",
      "source": [
        "### Decision Tree"
      ],
      "metadata": {
        "id": "JAmCnzrNfPS4"
      }
    },
    {
      "cell_type": "code",
      "source": [
        "dtree = DecisionTreeClassifier()\n",
        "param_distributions = dict(\n",
        "    max_depth=randint(5, 10),\n",
        "    criterion=[\"gini\", \"entropy\"],\n",
        "    min_samples_leaf=randint(1, 9)\n",
        ")\n",
        "\n",
        "best_model, accuracy = get_cross_validated_results(\n",
        "    'Decision Tree', dtree, param_distributions, 10, X_train, y_train, X_val, y_val\n",
        ")\n",
        "\n",
        "models.append(best_model)\n",
        "model_weights.append(accuracy)"
      ],
      "metadata": {
        "colab": {
          "base_uri": "https://localhost:8080/"
        },
        "id": "HWhhUh5lE5KT",
        "outputId": "bbf344cf-3d97-495c-a805-5a1988629ca4"
      },
      "execution_count": 293,
      "outputs": [
        {
          "output_type": "stream",
          "name": "stdout",
          "text": [
            "Decision Tree\n",
            "{'criterion': 'entropy', 'max_depth': 9, 'min_samples_leaf': 4}\n",
            "Accuracy: 0.8753411199650694\n"
          ]
        }
      ]
    },
    {
      "cell_type": "markdown",
      "source": [
        "### AdaBoost\n"
      ],
      "metadata": {
        "id": "NQIvy2KfjmRX"
      }
    },
    {
      "cell_type": "code",
      "source": [
        "ada = AdaBoostClassifier(estimator=DecisionTreeClassifier(max_depth=3))\n",
        "param_distributions = dict(\n",
        "    n_estimators=randint(20, 30),\n",
        ")\n",
        "\n",
        "best_model, accuracy = get_cross_validated_results(\n",
        "    'AdaBoost', ada, param_distributions, 5, X_train, y_train, X_val, y_val\n",
        ")\n",
        "\n",
        "models.append(best_model)\n",
        "model_weights.append(accuracy)"
      ],
      "metadata": {
        "colab": {
          "base_uri": "https://localhost:8080/"
        },
        "id": "B0NmLLsfqisH",
        "outputId": "e879b25d-190e-4e54-803e-3f84e6c09915"
      },
      "execution_count": 294,
      "outputs": [
        {
          "output_type": "stream",
          "name": "stdout",
          "text": [
            "AdaBoost\n",
            "{'n_estimators': 29}\n",
            "Accuracy: 0.9709638685732999\n"
          ]
        }
      ]
    },
    {
      "cell_type": "markdown",
      "source": [
        "### HistGradientBoostingClassifier"
      ],
      "metadata": {
        "id": "BYvTz5D0WXxa"
      }
    },
    {
      "cell_type": "code",
      "source": [
        "hgb = HistGradientBoostingClassifier()\n",
        "param_distributions = dict(\n",
        "    max_depth=randint(3, 6),\n",
        "    max_iter=randint(20, 50),\n",
        "    min_samples_leaf=randint(30, 50)\n",
        ")\n",
        "best_model, accuracy = get_cross_validated_results(\n",
        "    'Histogram-based Gradient Boosted Classifier', hgb, param_distributions, 5, X_train, y_train, X_val, y_val\n",
        ")\n",
        "\n",
        "models.append(best_model)\n",
        "model_weights.append(accuracy)"
      ],
      "metadata": {
        "colab": {
          "base_uri": "https://localhost:8080/"
        },
        "id": "zEE-1we9Iund",
        "outputId": "d06bbb1e-7ec8-44e6-9ebf-e3a02496f0dc"
      },
      "execution_count": 295,
      "outputs": [
        {
          "output_type": "stream",
          "name": "stdout",
          "text": [
            "Histogram-based Gradient Boosted Classifier\n",
            "{'max_depth': 5, 'max_iter': 46, 'min_samples_leaf': 48}\n",
            "Accuracy: 0.9721646108503439\n"
          ]
        }
      ]
    },
    {
      "cell_type": "markdown",
      "source": [
        "### Ensemble\n",
        "\n",
        "Takes a weighted average of each model's prediction for a final prediction - threshold set at 0.5 for classification"
      ],
      "metadata": {
        "id": "tlO7yHfRWeW2"
      }
    },
    {
      "cell_type": "code",
      "source": [
        "def ensemble_predictions(models, weights, n_models, X_test):\n",
        "    y_preds = [model.predict(X_test) for model in models]\n",
        "    y_preds = array(y_preds)\n",
        "    weighted_avg = tensordot(y_preds, weights, axes=((0), (0))) / n_models\n",
        "    weighted_avg[weighted_avg < 0.5] = 0\n",
        "    weighted_avg[weighted_avg >= 0.5] = 1\n",
        "    return weighted_avg"
      ],
      "metadata": {
        "colab": {
          "base_uri": "https://localhost:8080/"
        },
        "id": "82Cs3SNvH-QO",
        "outputId": "d650281d-a7e3-44a3-ef43-2e0c5959a07a"
      },
      "execution_count": 296,
      "outputs": [
        {
          "output_type": "stream",
          "name": "stdout",
          "text": [
            "0.984061135371179\n"
          ]
        }
      ]
    },
    {
      "cell_type": "code",
      "source": [
        "y_pred = ensemble_predictions(models, model_weights, len(models), X_test)\n",
        "print(accuracy_score(y_test, y_pred))"
      ],
      "metadata": {
        "colab": {
          "base_uri": "https://localhost:8080/"
        },
        "id": "Tq7ux_-zkOrO",
        "outputId": "3a679959-5f74-4e32-a27e-a59176e513be"
      },
      "execution_count": 297,
      "outputs": [
        {
          "output_type": "stream",
          "name": "stdout",
          "text": [
            "0.984061135371179\n"
          ]
        }
      ]
    },
    {
      "cell_type": "markdown",
      "source": [
        "## Experiment 2"
      ],
      "metadata": {
        "id": "I1X1TV27V5Va"
      }
    },
    {
      "cell_type": "markdown",
      "source": [
        "### Modified Dataset\n",
        "\n",
        "Assumption is that converting color features to it's component `r`, `g`, and `b` values might be a better discriminant"
      ],
      "metadata": {
        "id": "r9HzsFDhV9kE"
      }
    },
    {
      "cell_type": "code",
      "source": [
        "data = pd.read_csv('./MushroomDataset/secondary_data.csv', sep=';')\n",
        "\n",
        "# brown=n, buff=b, gray=g, green=r, pink=p, purple=u, red=e, white=w, yellow=y, blue=l, orange=o, black=k, none=f\n",
        "colors = {\n",
        "    'n': {'r': 165, 'g': 42, 'b': 42, 'a': 1},\n",
        "    'b': {'r': 218, 'g': 160, 'b': 109, 'a': 1},\n",
        "    'g': {'r': 128, 'g': 128, 'b': 128, 'a': 1},\n",
        "    'r': {'r': 0, 'g': 128, 'b': 0, 'a': 1},\n",
        "    'p': {'r': 255, 'g': 192, 'b': 203, 'a': 1},\n",
        "    'u': {'r': 128, 'g': 0, 'b': 128, 'a': 1},\n",
        "    'e': {'r': 255, 'g': 0, 'b': 0, 'a': 1},\n",
        "    'w': {'r': 255, 'g': 255, 'b': 255, 'a': 1},\n",
        "    'y': {'r': 255, 'g': 255, 'b': 0, 'a': 1},\n",
        "    'l': {'r': 0, 'g': 0, 'b': 255, 'a': 1},\n",
        "    'o': {'r': 255, 'g': 165, 'b': 0, 'a': 1},\n",
        "    'k': {'r': 0, 'g': 0, 'b': 0, 'a': 1},\n",
        "    'f': {'r': 0, 'g': 0, 'b': 0, 'a': 0},\n",
        "}"
      ],
      "metadata": {
        "id": "9WyJrcSSWL3A"
      },
      "execution_count": 315,
      "outputs": []
    },
    {
      "cell_type": "code",
      "source": [
        "mod_data = data.copy()\n",
        "print(mod_data.shape)\n",
        "for feature, datatype in data.dtypes.items():\n",
        "    if 'color' in feature:\n",
        "        print(f'substituting {feature}')\n",
        "        color_feature = mod_data.pop(feature)\n",
        "        color_feature = ['f' if type(val) != type('a') else val for val in color_feature]\n",
        "        feature_r = [colors[val]['r'] for val in color_feature]\n",
        "        feature_g = [colors[val]['g'] for val in color_feature]\n",
        "        feature_b = [colors[val]['b'] for val in color_feature]\n",
        "        feature_a = [colors[val]['a'] for val in color_feature]\n",
        "\n",
        "        mod_data[f'{feature}-r'] = feature_r\n",
        "        mod_data[f'{feature}-g'] = feature_g\n",
        "        mod_data[f'{feature}-b'] = feature_b\n",
        "        mod_data[f'{feature}-a'] = feature_a"
      ],
      "metadata": {
        "colab": {
          "base_uri": "https://localhost:8080/"
        },
        "id": "DmHRoxE5ZKOs",
        "outputId": "550789a3-ba3e-4ab9-eeab-bf5c4b8cfd68"
      },
      "execution_count": 316,
      "outputs": [
        {
          "output_type": "stream",
          "name": "stdout",
          "text": [
            "(61069, 21)\n",
            "substituting cap-color\n",
            "substituting gill-color\n",
            "substituting stem-color\n",
            "substituting veil-color\n",
            "substituting spore-print-color\n"
          ]
        }
      ]
    },
    {
      "cell_type": "code",
      "source": [
        "mod_data.shape"
      ],
      "metadata": {
        "colab": {
          "base_uri": "https://localhost:8080/"
        },
        "id": "2SWzYmTZZdUD",
        "outputId": "c2101b8e-6383-4450-9baf-7fc43f61ecd6"
      },
      "execution_count": 317,
      "outputs": [
        {
          "output_type": "execute_result",
          "data": {
            "text/plain": [
              "(61069, 36)"
            ]
          },
          "metadata": {},
          "execution_count": 317
        }
      ]
    },
    {
      "cell_type": "markdown",
      "source": [
        "Dropping columns that have more than half NaN values"
      ],
      "metadata": {
        "id": "sPwbgIdfisSM"
      }
    },
    {
      "cell_type": "code",
      "source": [
        "mod_data.dropna(axis=1, thresh=mod_data.shape[0]/2, inplace=True)\n",
        "mod_data.shape"
      ],
      "metadata": {
        "colab": {
          "base_uri": "https://localhost:8080/"
        },
        "id": "UytU67KfidZ-",
        "outputId": "134f3b1b-7feb-461d-dafa-bd9505de2884"
      },
      "execution_count": 318,
      "outputs": [
        {
          "output_type": "execute_result",
          "data": {
            "text/plain": [
              "(61069, 33)"
            ]
          },
          "metadata": {},
          "execution_count": 318
        }
      ]
    },
    {
      "cell_type": "markdown",
      "source": [
        "### Convert character/text labels to integers"
      ],
      "metadata": {
        "id": "EqyLrnUEi1ui"
      }
    },
    {
      "cell_type": "code",
      "source": [
        "# encode labels and move `class` to front of the dataframe\n",
        "mod_data = encode_labels(mod_data)\n",
        "mod_data.insert(0, 'class', mod_data.pop('class'))"
      ],
      "metadata": {
        "id": "FRP35zWKimHz"
      },
      "execution_count": 319,
      "outputs": []
    },
    {
      "cell_type": "markdown",
      "source": [
        "### Creating train-test-validation splits"
      ],
      "metadata": {
        "id": "ioMy8SWrjCSw"
      }
    },
    {
      "cell_type": "code",
      "source": [
        "X = mod_data.iloc[:, 1:]\n",
        "y = mod_data.iloc[:, 0]\n",
        "\n",
        "X_train, y_train, X_test, y_test, X_val, y_val = train_test_validation_split(X, y)"
      ],
      "metadata": {
        "id": "dShvHzuvjHdf"
      },
      "execution_count": 333,
      "outputs": []
    },
    {
      "cell_type": "markdown",
      "source": [
        "Initializing models' array and their weights"
      ],
      "metadata": {
        "id": "c16YG03sn86A"
      }
    },
    {
      "cell_type": "code",
      "source": [
        "models = []\n",
        "model_weights = []"
      ],
      "metadata": {
        "id": "mWyz1M83oAT4"
      },
      "execution_count": 337,
      "outputs": []
    },
    {
      "cell_type": "markdown",
      "source": [
        "### Decision Tree"
      ],
      "metadata": {
        "id": "n0ACgTf9jXPQ"
      }
    },
    {
      "cell_type": "code",
      "source": [
        "dtree = DecisionTreeClassifier()\n",
        "param_distributions = dict(\n",
        "    max_depth=randint(5, 10),\n",
        "    criterion=[\"gini\", \"entropy\"],\n",
        "    min_samples_leaf=randint(1, 9)\n",
        ")\n",
        "\n",
        "best_model, accuracy = get_cross_validated_results(\n",
        "    'Decision Tree', dtree, param_distributions, 10, X_train, y_train, X_val, y_val\n",
        ")\n",
        "\n",
        "models.append(best_model)\n",
        "model_weights.append(accuracy)"
      ],
      "metadata": {
        "colab": {
          "base_uri": "https://localhost:8080/"
        },
        "id": "R3oKPKhjjYjj",
        "outputId": "ce28b097-6d22-4ed4-9c30-0ab196d91e71"
      },
      "execution_count": 338,
      "outputs": [
        {
          "output_type": "stream",
          "name": "stdout",
          "text": [
            "Decision Tree\n",
            "{'criterion': 'gini', 'max_depth': 9, 'min_samples_leaf': 1}\n",
            "Accuracy: 0.8994651238947713\n"
          ]
        }
      ]
    },
    {
      "cell_type": "markdown",
      "source": [
        "### AdaBoost"
      ],
      "metadata": {
        "id": "9X59gyyjkqsP"
      }
    },
    {
      "cell_type": "code",
      "source": [
        "ada = AdaBoostClassifier(estimator=DecisionTreeClassifier(max_depth=3))\n",
        "param_distributions = dict(\n",
        "    n_estimators=randint(20, 30),\n",
        ")\n",
        "\n",
        "best_model, accuracy = get_cross_validated_results(\n",
        "    'AdaBoost', ada, param_distributions, 5, X_train, y_train, X_val, y_val\n",
        ")\n",
        "\n",
        "models.append(best_model)\n",
        "model_weights.append(accuracy)"
      ],
      "metadata": {
        "colab": {
          "base_uri": "https://localhost:8080/"
        },
        "id": "e_sNPdFLkxky",
        "outputId": "28654993-95f6-40b1-e77c-09b7d439f207"
      },
      "execution_count": 339,
      "outputs": [
        {
          "output_type": "stream",
          "name": "stdout",
          "text": [
            "AdaBoost\n",
            "{'n_estimators': 29}\n",
            "Accuracy: 0.984281192009606\n"
          ]
        }
      ]
    },
    {
      "cell_type": "markdown",
      "source": [
        "### HistGradientBoostingClassifier"
      ],
      "metadata": {
        "id": "P7IiMrFSks-a"
      }
    },
    {
      "cell_type": "code",
      "source": [
        "hgb = HistGradientBoostingClassifier()\n",
        "param_distributions = dict(\n",
        "    max_depth=randint(3, 6),\n",
        "    max_iter=randint(20, 50),\n",
        "    min_samples_leaf=randint(30, 50)\n",
        ")\n",
        "best_model, accuracy = get_cross_validated_results(\n",
        "    'Histogram-based Gradient Boosted Classifier', hgb, param_distributions, 5, X_train, y_train, X_val, y_val\n",
        ")\n",
        "\n",
        "models.append(best_model)\n",
        "model_weights.append(accuracy)"
      ],
      "metadata": {
        "colab": {
          "base_uri": "https://localhost:8080/"
        },
        "id": "5IMsC0mTk054",
        "outputId": "104e3510-00bb-40f9-f691-828de3b57b6f"
      },
      "execution_count": 340,
      "outputs": [
        {
          "output_type": "stream",
          "name": "stdout",
          "text": [
            "Histogram-based Gradient Boosted Classifier\n",
            "{'max_depth': 5, 'max_iter': 47, 'min_samples_leaf': 49}\n",
            "Accuracy: 0.9788232725684969\n"
          ]
        }
      ]
    },
    {
      "cell_type": "markdown",
      "source": [
        "### Ensemble"
      ],
      "metadata": {
        "id": "_sZkLIIok2gI"
      }
    },
    {
      "cell_type": "code",
      "source": [
        "def ensemble_predictions(models, weights, n_models, test_data):\n",
        "    y_preds = [model.predict(test_data) for model in models]\n",
        "    y_preds = array(y_preds)\n",
        "    weighted_avg = tensordot(y_preds, weights, axes=((0), (0))) / n_models\n",
        "    weighted_avg[weighted_avg < 0.5] = 0\n",
        "    weighted_avg[weighted_avg >= 0.5] = 1\n",
        "    return weighted_avg\n",
        "\n",
        "y_pred = ensemble_predictions(models, model_weights, len(models), X_test)\n",
        "print(accuracy_score(y_test, y_pred))"
      ],
      "metadata": {
        "colab": {
          "base_uri": "https://localhost:8080/"
        },
        "id": "NXQEKF3Nk4Mf",
        "outputId": "5611782e-11ad-444c-d389-c3c53c8ee807"
      },
      "execution_count": 342,
      "outputs": [
        {
          "output_type": "stream",
          "name": "stdout",
          "text": [
            "0.9822052401746725\n"
          ]
        }
      ]
    }
  ]
}